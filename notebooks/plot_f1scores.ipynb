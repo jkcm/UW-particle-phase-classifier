{
 "cells": [
  {
   "cell_type": "code",
   "execution_count": 20,
   "metadata": {},
   "outputs": [],
   "source": [
    "import numpy as np\n",
    "import xarray as xr\n",
    "import pandas as pd\n",
    "import matplotlib.pyplot as plt\n",
    "from sklearn.metrics import classification_report\n",
    "import pickle\n",
    "import joblib"
   ]
  },
  {
   "cell_type": "code",
   "execution_count": 21,
   "metadata": {},
   "outputs": [
    {
     "name": "stderr",
     "output_type": "stream",
     "text": [
      "/home/disk/eos9/jlu43/anaconda3/lib/python3.7/site-packages/sklearn/base.py:318: UserWarning: Trying to unpickle estimator DecisionTreeClassifier from version 0.21.2 when using version 0.22.1. This might lead to breaking code or invalid results. Use at your own risk.\n",
      "  UserWarning)\n",
      "/home/disk/eos9/jlu43/anaconda3/lib/python3.7/site-packages/sklearn/base.py:318: UserWarning: Trying to unpickle estimator RandomForestClassifier from version 0.21.2 when using version 0.22.1. This might lead to breaking code or invalid results. Use at your own risk.\n",
      "  UserWarning)\n"
     ]
    }
   ],
   "source": [
    "model = pickle.load(open('/home/disk/eos9/jlu43/random_forests/model.0.8751679637015776',\"rb\"))"
   ]
  },
  {
   "cell_type": "code",
   "execution_count": 22,
   "metadata": {},
   "outputs": [],
   "source": [
    "#TESTING DATA \n",
    "#oc is used for UIOOPS and EOL, x_test used for model\n",
    "\n",
    "ice_test=\"/home/disk/eos15/ijjhsiao/Particle_Research/data/training/ice/ice_data.test.nc\"\n",
    "liquid_test=\"/home/disk/eos9/jkcm/Data/particle/liquid/liquid_data.test.nc\"\n",
    "\n",
    "ice_testdt = xr.open_dataset(ice_test)\n",
    "liquid_testdt = xr.open_dataset(liquid_test)\n",
    "\n",
    "ice_testdt = ice_testdt.drop_dims(['bin_count', 'pos_count'])\n",
    "liquid_testdt = liquid_testdt.drop_dims(['bin_count', 'pos_count'])\n",
    "\n",
    "ice_testr = [0] * len(ice_testdt.image_length)\n",
    "liquid_testr = [1] * len(liquid_testdt.image_length)\n",
    "y_test = np.concatenate((np.array(ice_testr), np.array(liquid_testr)))\n",
    "\n",
    "x_test = ice_testdt.to_dataframe().append(liquid_testdt.to_dataframe(),sort=False)\n",
    "\n",
    "oc = x_test\n",
    "oc['phase']=y_test\n",
    "small_test_oc = oc.query(\"image_area >= 0.0025 and image_area < 0.01\")\n",
    "medium_test_oc = oc.query(\"image_area >= 0.01 and image_area < 0.07\")\n",
    "big_test_oc = oc.query(\"image_area >= 0.07\")\n",
    "                       \n",
    "x_test=x_test.drop(['Date','Time','msec','Time_in_seconds','SliceCount', 'DMT_DOF_SPEC_OVERLOAD',\n",
    "             'Particle_number_all', 'particle_time', 'particle_millisec', 'inter_arrival',\n",
    "             'particle_microsec', 'parent_rec_num', 'particle_num', 'image_longest_y',\n",
    "             'image_auto_reject', 'image_hollow', 'image_center_in', 'image_axis_ratio',\n",
    "             'part_z', 'size_factor', 'holroyd_habit','datetime','area_hole_ratio'],axis=1)\n",
    "\n",
    "x_test['phase']=y_test\n",
    "small_test = x_test.query(\"image_area >= 0.0025 and image_area < 0.01\")\n",
    "medium_test = x_test.query(\"image_area >= 0.01 and image_area < 0.07\")\n",
    "big_test = x_test.query(\"image_area >= 0.07\")"
   ]
  },
  {
   "cell_type": "code",
   "execution_count": 25,
   "metadata": {},
   "outputs": [
    {
     "data": {
      "text/plain": [
       "{'0': {'precision': 0.7755310980291784,\n",
       "  'recall': 0.7575,\n",
       "  'f1-score': 0.7664095105602631,\n",
       "  'support': 4000},\n",
       " '1': {'precision': 0.9038937877737045,\n",
       "  'recall': 0.9123,\n",
       "  'f1-score': 0.9080774399044443,\n",
       "  'support': 10000},\n",
       " 'accuracy': 0.8680714285714286,\n",
       " 'macro avg': {'precision': 0.8397124429014415,\n",
       "  'recall': 0.8349,\n",
       "  'f1-score': 0.8372434752323537,\n",
       "  'support': 14000},\n",
       " 'weighted avg': {'precision': 0.8672187335609828,\n",
       "  'recall': 0.8680714285714286,\n",
       "  'f1-score': 0.8676008886632497,\n",
       "  'support': 14000}}"
      ]
     },
     "execution_count": 25,
     "metadata": {},
     "output_type": "execute_result"
    }
   ],
   "source": [
    "#get f1 scores for model. Run on (small_test, medium_test, big_test)\n",
    "\n",
    "test_predictions = model.predict(small_test.drop('phase', axis=1))\n",
    "classification_report(small_test.phase,test_predictions,output_dict = True)"
   ]
  },
  {
   "cell_type": "code",
   "execution_count": 26,
   "metadata": {},
   "outputs": [],
   "source": [
    "#UIOOPS and EOL predictions\n",
    "\n",
    "hollow=small_test_oc['image_hollow'][:]\n",
    "dmax=small_test_oc['image_diam_minR'][:]*1e3 #Convert from mm to micron\n",
    "holroyd=small_test_oc['holroyd_habit'][:]\n",
    "area_ratio=small_test_oc['area_ratio'][:]\n",
    " \n",
    "UIOOPS=np.zeros(len(hollow))\n",
    "UIOOPS[np.where((hollow==1)&(dmax<300.))]=1\n",
    "UIOOPS[np.where(holroyd>115)]=1\n",
    " \n",
    "EOL=np.zeros(len(hollow))\n",
    "EOL[np.where(area_ratio>=.5)]=1"
   ]
  },
  {
   "cell_type": "code",
   "execution_count": 27,
   "metadata": {},
   "outputs": [
    {
     "data": {
      "text/plain": [
       "{'0.0': {'precision': 0.20875,\n",
       "  'recall': 0.7382847038019452,\n",
       "  'f1-score': 0.3254726174235042,\n",
       "  'support': 1131},\n",
       " '1.0': {'precision': 0.9704,\n",
       "  'recall': 0.7540601445333748,\n",
       "  'f1-score': 0.8486597577506669,\n",
       "  'support': 12869},\n",
       " 'accuracy': 0.7527857142857143,\n",
       " 'macro avg': {'precision': 0.589575,\n",
       "  'recall': 0.7461724241676599,\n",
       "  'f1-score': 0.5870661875870855,\n",
       "  'support': 14000},\n",
       " 'weighted avg': {'precision': 0.9088695607142858,\n",
       "  'recall': 0.7527857142857143,\n",
       "  'f1-score': 0.8063937109142368,\n",
       "  'support': 14000}}"
      ]
     },
     "execution_count": 27,
     "metadata": {},
     "output_type": "execute_result"
    }
   ],
   "source": [
    "#get f1 scores for UIOOPS and EOL\n",
    "classification_report(UIOOPS,small_test_oc.phase,output_dict = True)\n",
    "classification_report(EOL,small_test_oc.phase,output_dict = True)\n",
    "\n",
    "#uioops small ice = 0.382\n",
    "#uioops small liquid = 0.731\n",
    "\n",
    "#uioops medium ice = 0.718\n",
    "#uioops medium liquid = 0.620\n",
    "\n",
    "#uioops large ice = 0.920\n",
    "#uioops large liquid = 0.0\n",
    "\n",
    "#eol small ice = 0.325\n",
    "#eol small liquid = 0.849\n",
    "\n",
    "#eol medium ice = 0.386\n",
    "#eol medium  liquid = 0.616\n",
    "\n",
    "#eol medium ice = 0.619\n",
    "#eol medium  liquid = 0.378"
   ]
  },
  {
   "cell_type": "code",
   "execution_count": 28,
   "metadata": {},
   "outputs": [
    {
     "data": {
      "image/png": "[encoded data removed]",
      "text/plain": [
       "<Figure size 720x432 with 1 Axes>"
      ]
     },
     "metadata": {
      "needs_background": "light"
     },
     "output_type": "display_data"
    }
   ],
   "source": [
    "import matplotlib\n",
    "import matplotlib.pyplot as plt\n",
    "import numpy as np\n",
    "\n",
    "\n",
    "labels = ['Small Ice', 'Medium Ice', 'Large Ice', 'Small Liquid', 'Medium Liquid', 'Large Liquid']\n",
    "model = [0.766, 0.872, 0.985, 0.908, 0.809, 0.910]\n",
    "UIOOPS = [0.382, 0.718, 0.920, 0.731, 0.620, 0.0]\n",
    "EOL = [0.325, 0.386, 0.619, 0.849, 0.616 ,0.378]\n",
    "\n",
    "\n",
    "x = np.arange(len(labels))  # the label locations\n",
    "width = 0.30  # the width of the bars\n",
    "\n",
    "fig, ax = plt.subplots(figsize=(10, 6))\n",
    "rects1 = ax.bar(x - width, model, width, label='Model')\n",
    "rects2 = ax.bar(x, UIOOPS, width, label='UIOOPS')\n",
    "rects3 = ax.bar(x + width, EOL, width, label='EOL')\n",
    "\n",
    "# Add some text for labels, title and custom x-axis tick labels, etc.\n",
    "ax.set_ylabel('F1 Scores')\n",
    "ax.set_title('Comparison of F1 Scores by size and phase')\n",
    "ax.set_xticks(x)\n",
    "ax.set_xticklabels(labels)\n",
    "ax.legend(loc='best')\n",
    "\n",
    "\n",
    "def autolabel(rects):\n",
    "    \"\"\"Attach a text label above each bar in *rects*, displaying its height.\"\"\"\n",
    "    for rect in rects:\n",
    "        height = rect.get_height()\n",
    "        ax.annotate('{}'.format(height),\n",
    "                    xy=(rect.get_x() + rect.get_width() / 2, height),\n",
    "                    xytext=(0, 3),  # 3 points vertical offset\n",
    "                    textcoords=\"offset points\",\n",
    "                    ha='center', va='bottom')\n",
    "\n",
    "\n",
    "autolabel(rects1)\n",
    "autolabel(rects2)\n",
    "autolabel(rects3)\n",
    "\n",
    "fig.tight_layout()\n",
    "\n",
    "plt.savefig(\"all_f1.png\", dpi=400)\n",
    "plt.show()"
   ]
  }
 ],
 "metadata": {
  "kernelspec": {
   "display_name": "Python 3",
   "language": "python",
   "name": "python3"
  },
  "language_info": {
   "codemirror_mode": {
    "name": "ipython",
    "version": 3
   },
   "file_extension": ".py",
   "mimetype": "text/x-python",
   "name": "python",
   "nbconvert_exporter": "python",
   "pygments_lexer": "ipython3",
   "version": "3.7.3"
  }
 },
 "nbformat": 4,
 "nbformat_minor": 4
}

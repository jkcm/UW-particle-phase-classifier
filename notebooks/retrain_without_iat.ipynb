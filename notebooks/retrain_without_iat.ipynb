{
 "cells": [
  {
   "cell_type": "code",
   "execution_count": 9,
   "id": "188e1a4f-10cc-452e-88e2-417d97cc54ec",
   "metadata": {},
   "outputs": [
    {
     "data": {
      "text/plain": [
       "RandomForestClassifier(bootstrap=True, ccp_alpha=0.0, class_weight=None,\n",
       "                       criterion='gini', max_depth=None, max_features='sqrt',\n",
       "                       max_leaf_nodes=None, max_samples=None,\n",
       "                       min_impurity_decrease=0.0, min_impurity_split=None,\n",
       "                       min_samples_leaf=1, min_samples_split=2,\n",
       "                       min_weight_fraction_leaf=0.0, n_estimators=100,\n",
       "                       n_jobs=None, oob_score=False, random_state=None,\n",
       "                       verbose=0, warm_start=False)"
      ]
     },
     "execution_count": 9,
     "metadata": {},
     "output_type": "execute_result"
    }
   ],
   "source": [
    "#Author: Jeremy Lu\n",
    "#Using processed training and validation data, trains a random forest model on particle phase classification\n",
    "\n",
    "\n",
    "#nonstandard\n",
    "import numpy as np\n",
    "import xarray as xr\n",
    "from sklearn.ensemble import RandomForestClassifier\n",
    "from pickle import dump, load\n",
    "\n",
    "#load data\n",
    "ice_tfile=\"/home/disk/eos15/ijjhsiao/Particle_Research/data/training/ice/ice_data.train.nc\"\n",
    "ice_vfile=\"/home/disk/eos15/ijjhsiao/Particle_Research/data/training/ice/ice_data.validate.nc\"\n",
    "\n",
    "liquid_tfile=\"/home/disk/eos9/jkcm/Data/particle/training/liquid/liquid_data.train.nc\"\n",
    "liquid_vfile=\"/home/disk/eos9/jkcm/Data/particle/training/liquid/liquid_data.validate.nc\"\n",
    "\n",
    "ice_tdata = xr.open_dataset(ice_tfile)\n",
    "ice_vdata = xr.open_dataset(ice_vfile)\n",
    "\n",
    "liquid_tdata = xr.open_dataset(liquid_tfile)\n",
    "liquid_vdata = xr.open_dataset(liquid_vfile)\n",
    "RSEED = 50\n",
    "\n",
    "# Create y_train and y_validate\n",
    "#0 is ice, 1 is liquid\n",
    "ice_tresults = [0] * len(ice_tdata.image_length)\n",
    "ice_vresults = [0] * len(ice_vdata.image_length)\n",
    "\n",
    "liquid_tresults = [1] * len(liquid_tdata.image_length)\n",
    "liquid_vresults = [1] * len(liquid_vdata.image_length)\n",
    "\n",
    "y_train = np.concatenate((np.array(ice_tresults), np.array(liquid_tresults)))\n",
    "y_validate = np.concatenate((np.array(ice_vresults), np.array(liquid_vresults)))\n",
    "\n",
    "#Create x_train and x_validate\n",
    "ice_tdata = ice_tdata.drop_dims(['bin_count', 'pos_count'])\n",
    "liquid_tdata = liquid_tdata.drop_dims(['bin_count', 'pos_count'])\n",
    "\n",
    "ice_vdata = ice_vdata.drop_dims(['bin_count', 'pos_count'])\n",
    "liquid_vdata = liquid_vdata.drop_dims(['bin_count', 'pos_count'])\n",
    "\n",
    "x_train = ice_tdata.to_dataframe().append(liquid_tdata.to_dataframe(),sort=False)\n",
    "x_validate = ice_vdata.to_dataframe().append(liquid_vdata.to_dataframe(), sort=False)\n",
    "\n",
    "x_train=x_train.drop(['Date','Time','msec','Time_in_seconds','SliceCount', 'DMT_DOF_SPEC_OVERLOAD',\n",
    "             'Particle_number_all', 'particle_time', 'particle_millisec', 'inter_arrival',\n",
    "             'particle_microsec', 'parent_rec_num', 'particle_num', 'image_longest_y',\n",
    "             'image_auto_reject', 'image_hollow', 'image_center_in', 'image_axis_ratio',\n",
    "             'part_z', 'size_factor', 'holroyd_habit','datetime','area_hole_ratio', 'log10_iat'],axis=1)\n",
    "x_validate=x_validate.drop(['Date','Time','msec','Time_in_seconds','SliceCount', 'DMT_DOF_SPEC_OVERLOAD',\n",
    "             'Particle_number_all', 'particle_time', 'particle_millisec', 'inter_arrival',\n",
    "             'particle_microsec', 'parent_rec_num', 'particle_num', 'image_longest_y',\n",
    "             'image_auto_reject', 'image_hollow', 'image_center_in', 'image_axis_ratio',\n",
    "             'part_z', 'size_factor', 'holroyd_habit','datetime', 'area_hole_ratio', 'log10_iat'],axis=1)\n",
    "\n",
    "# Create the model with 100 trees\n",
    "model = RandomForestClassifier(n_estimators=100, \n",
    "                               bootstrap = True,\n",
    "                               max_features = 'sqrt')\n",
    "# Fit on training data\n",
    "model.fit(x_train, y_train)"
   ]
  },
  {
   "cell_type": "code",
   "execution_count": 10,
   "id": "07a56523-fbf8-4df0-b3dc-2d0388e9d094",
   "metadata": {},
   "outputs": [],
   "source": [
    "dump(model, open('/home/disk/p/jkcm/Code/UW-particle-phase-classifier/model_data/model_no_iat', 'wb'))"
   ]
  },
  {
   "cell_type": "code",
   "execution_count": 11,
   "id": "56984329-a593-45bf-9923-dd296d14a0b6",
   "metadata": {},
   "outputs": [],
   "source": [
    "model2 = pickle.load(open('/home/disk/p/jkcm/Code/UW-particle-phase-classifier/model_data/model_no_iat',\"rb\"))\n"
   ]
  },
  {
   "cell_type": "code",
   "execution_count": 12,
   "id": "eecce69d-be14-4187-9295-0a6f347f8126",
   "metadata": {},
   "outputs": [
    {
     "data": {
      "text/plain": [
       "RandomForestClassifier(bootstrap=True, ccp_alpha=0.0, class_weight=None,\n",
       "                       criterion='gini', max_depth=None, max_features='sqrt',\n",
       "                       max_leaf_nodes=None, max_samples=None,\n",
       "                       min_impurity_decrease=0.0, min_impurity_split=None,\n",
       "                       min_samples_leaf=1, min_samples_split=2,\n",
       "                       min_weight_fraction_leaf=0.0, n_estimators=100,\n",
       "                       n_jobs=None, oob_score=False, random_state=None,\n",
       "                       verbose=0, warm_start=False)"
      ]
     },
     "execution_count": 12,
     "metadata": {},
     "output_type": "execute_result"
    }
   ],
   "source": [
    "model2"
   ]
  },
  {
   "cell_type": "code",
   "execution_count": null,
   "id": "3a2d388b-9927-4436-9b0d-674224770d56",
   "metadata": {},
   "outputs": [],
   "source": []
  }
 ],
 "metadata": {
  "kernelspec": {
   "display_name": "Python [conda env:classified-cset]",
   "language": "python",
   "name": "conda-env-classified-cset-py"
  },
  "language_info": {
   "codemirror_mode": {
    "name": "ipython",
    "version": 3
   },
   "file_extension": ".py",
   "mimetype": "text/x-python",
   "name": "python",
   "nbconvert_exporter": "python",
   "pygments_lexer": "ipython3",
   "version": "3.7.6"
  }
 },
 "nbformat": 4,
 "nbformat_minor": 5
}

{
 "cells": [
  {
   "cell_type": "code",
   "execution_count": 6,
   "id": "9f99f4b1-3573-4f14-895e-4df41ae84e9d",
   "metadata": {},
   "outputs": [],
   "source": [
    "import pickle\n",
    "import sklearn as sk\n",
    "from sklearn.metrics import f1_score, confusion_matrix, ConfusionMatrixDisplay\n",
    "import numpy as np\n",
    "import matplotlib.pyplot as plt"
   ]
  },
  {
   "cell_type": "code",
   "execution_count": 7,
   "id": "1b85eca3-dea3-4ee0-8875-e6311a29640a",
   "metadata": {},
   "outputs": [],
   "source": [
    "RA=[1, 5, 44, 48, 50, 60, 71, 74, 82, 91, 105, 115, 119, 120, 132, 137, 140, 141, 150, 153, 173, 201, 203, 208, 220, 221, 226, 233, 234, 248, 273, 275, 285, 286, 294, 296, 306, 308, 318, 341, 360, 375, 377, 414, 418, 436, 451, 455, 480, 484, 489, 494, 517, 523, 528, 534, 557, 565, 568, 570, 572, 575, 581, 591, 613, 633, 637, 661, 672, 694, 710, 712, 718, 722, 733, 734, 748, 752, 760, 761, 766, 771, 781, 782, 785, 787, 793, 796, 803, 815, 838, 842, 859, 869, 870, 872, 875, 879, 882, 892, 895, 912, 917, 918, 921, 930, 936, 945, 972, 987, 989, 992, 996]\n",
    "\n",
    "RW=[1,6,44,48,60,71,74,82,91,115,119,120,132,137,140,141,150,173,201,203,208,220,221,226,233,234,248,285,286,294,296,306,308,318,341,351,360,375,377,436,451,455,480,484,489,494,517,528,534,557,565,568,570,572,575,581,613,633,637,661,672,694,710,712,718,722,734,748,752,760,761,766,771,781,782,785,787,793,796,803,815,838,842,859,869,870,872,875,879,882,892,895,897,910,917,918,921,930,936,942,972,987,989,992,997]\n",
    "\n",
    "HM=[1,44,48,60,71,74,82,91,95,115,120,125,132,137,140,141,150,153,161,173,184,201,203,208,220,221,226,233,234,248,285,286,296,306,308,318,320,341,360,375,377,414,436,451,480,484,489,494,517,528,534,557,565,568,570,581,613,633,637,657,661,672,694,710,712,734,752,760,761,766,771,781,782,793,796,803,815,838,842,859,869,870,872,875,882,892,893,895,897,912,917,918,936,972,987,989,996]\n",
    "\n",
    "JF=[1, 5, 15, 44, 48, 50, 60, 71, 74, 82, 91, 105, 113, 115, 120, 131, 132, 137, 140, 141, 150, 171, 184, 201, 203, 208, 220, 221, 226, 233, 234, 248, 250, 253, 273, 275, 285, 286, 294, 296, 298, 306, 308, 316, 318, 323, 341, 360, 373, 377, 418, 436, 455, 484, 489, 494, 517, 528, 534, 557, 565, 568, 570, 572, 613, 633, 661, 672, 694, 710, 712, 722, 734, 752, 760, 761, 766, 771, 781, 782, 785, 786, 787, 793, 796, 803, 815, 830, 838, 842, 859, 869, 870, 872, 875, 879, 882, 892, 893, 897, 917, 918, 921, 930, 935, 936, 945, 972, 987, 989, 996]"
   ]
  },
  {
   "cell_type": "code",
   "execution_count": 24,
   "id": "fff412c8-1244-4089-95ea-93080bbddf4b",
   "metadata": {},
   "outputs": [
    {
     "name": "stdout",
     "output_type": "stream",
     "text": [
      "UW_phase 91\n",
      "AR_phase 546\n",
      "Holroyd_phase 37\n",
      "RA_phase 113\n",
      "RW_phase 105\n",
      "HM_phase 97\n",
      "JF_phase 111\n",
      "agreed-upon particles: 939\n",
      "all humans 78\n",
      "UW f1: 0.63\n",
      "UW f1 ice: 0.97\n",
      "UW f1 liq: 0.63\n",
      "correct # of ice: 861\n",
      "correct # of liq: 78.0\n",
      "ambiguous particles: 61\n",
      "UW correctly ID liq: 47\n",
      "UW false positive liq: 24\n",
      "UW false negative liq: 31\n",
      "UW precision: 0.66\n",
      "UW recall: 0.60\n",
      "UW_f1: 0.6308724832214764\n",
      "AR f1: 0.26\n",
      "Holroyd f1: 0.44\n"
     ]
    },
    {
     "data": {
      "image/png": "[encoded data removed]",
      "text/plain": [
       "<Figure size 432x288 with 7 Axes>"
      ]
     },
     "metadata": {
      "needs_background": "light"
     },
     "output_type": "display_data"
    }
   ],
   "source": [
    "class_data = pickle.load(open('/home/disk/eos12/ratlas/SOCRATES/ML/save_files/manual_classification', 'rb'))\n",
    "\n",
    "human_class = {k:v for k,v in class_data.items() if k in ['RA_phase', 'RW_phase', 'HM_phase', 'JF_phase']}\n",
    "[print(k, int(np.sum(v))) for k,v in class_data.items() if not k=='UW_certainty']\n",
    "all_human_prob = sum([v for v in human_class.values()])/4\n",
    "all_human_class = (all_human_prob>0.5).astype(float)\n",
    "all_human_class[np.abs(all_human_prob-0.5)<=0.25] = np.nan\n",
    "\n",
    "print(\"agreed-upon particles:\", np.sum(~np.isnan(all_human_class)))\n",
    "# print(\n",
    "\n",
    "all_human_agree = (all_human_prob==1).astype(float)\n",
    "\n",
    "print('all humans', int(np.nansum(all_human_class)))\n",
    "shifted_UW_phase = np.append(class_data['UW_phase'][1:], 0)\n",
    "shifted_AR_phase = np.append(class_data['AR_phase'][1:], 0)\n",
    "shifted_Holroyd_phase  = np.append(class_data['Holroyd_phase'][1:], 0)\n",
    "# actual_uw_cert = class_data['UW_certainty'].copy()\n",
    "# actual_uw_cert[class_data['UW_phase']==0] = 0.5-actual_uw_cert[class_data['UW_phase']==0]\n",
    "\n",
    "UW_f1 = f1_score(y_true=all_human_class[~np.isnan(all_human_class)], y_pred=shifted_UW_phase[~np.isnan(all_human_class)])\n",
    "UW_f1_ice = f1_score(y_true=all_human_class[~np.isnan(all_human_class)], y_pred=shifted_UW_phase[~np.isnan(all_human_class)], pos_label=0)\n",
    "UW_f1_liq = f1_score(y_true=all_human_class[~np.isnan(all_human_class)], y_pred=shifted_UW_phase[~np.isnan(all_human_class)], pos_label=1)\n",
    "AR_f1 = f1_score(y_true=all_human_class[~np.isnan(all_human_class)], y_pred=shifted_AR_phase[~np.isnan(all_human_class)])\n",
    "HO_f1 = f1_score(y_true=all_human_class[~np.isnan(all_human_class)], y_pred=shifted_Holroyd_phase[~np.isnan(all_human_class)])\n",
    "\n",
    "print(f'UW f1: {UW_f1:0.2f}')\n",
    "print(f'UW f1 ice: {UW_f1_ice:0.2f}')\n",
    "print(f'UW f1 liq: {UW_f1_liq:0.2f}')\n",
    "n_correct_ice = np.nansum(np.logical_not(all_human_class))\n",
    "n_correct_liq = np.nansum(all_human_class)\n",
    "n_ambig = np.nansum(np.isnan(all_human_class))\n",
    "n_UW_correct_liq_id = np.nansum(np.logical_and(all_human_class==1, shifted_UW_phase==1))\n",
    "n_UW_liq_false_positives = np.nansum(np.logical_and(all_human_class==0, shifted_UW_phase==1))\n",
    "n_UW_liq_false_negatives = np.nansum(np.logical_and(all_human_class==1, shifted_UW_phase==0))\n",
    "UW_precision = n_UW_correct_liq_id/(n_UW_correct_liq_id+n_UW_liq_false_positives)\n",
    "UW_recall = n_UW_correct_liq_id/(n_UW_correct_liq_id+n_UW_liq_false_negatives)\n",
    "print(f'correct # of ice: {n_correct_ice}')\n",
    "print(f'correct # of liq: {n_correct_liq}')\n",
    "print(f'ambiguous particles: {n_ambig}')\n",
    "\n",
    "print(f'UW correctly ID liq: {n_UW_correct_liq_id}')\n",
    "print(f'UW false positive liq: {n_UW_liq_false_positives}')\n",
    "print(f'UW false negative liq: {n_UW_liq_false_negatives}')\n",
    "print(f'UW precision: {UW_precision:0.2f}')\n",
    "print(f'UW recall: {UW_recall:0.2f}')\n",
    "print(f'UW_f1: {2*UW_precision*UW_recall/(UW_precision+UW_recall)}')\n",
    "print(f'AR f1: {AR_f1:0.2f}')\n",
    "print(f'Holroyd f1: {HO_f1:0.2f}')\n",
    "cm = confusion_matrix(y_true = all_human_class[~np.isnan(all_human_class)],\n",
    "                 y_pred=shifted_UW_phase[~np.isnan(all_human_class)])\n",
    "cm_ar = confusion_matrix(y_true = all_human_class[~np.isnan(all_human_class)],\n",
    "                 y_pred=shifted_AR_phase[~np.isnan(all_human_class)])\n",
    "cm_ho = confusion_matrix(y_true = all_human_class[~np.isnan(all_human_class)],\n",
    "                 y_pred=shifted_Holroyd_phase[~np.isnan(all_human_class)])\n",
    "cmd = ConfusionMatrixDisplay(cm, display_labels=['ice', 'liquid'])\n",
    "cmd_ar = ConfusionMatrixDisplay(cm_ar, display_labels=['ice', 'liquid'])\n",
    "cmd_ho = ConfusionMatrixDisplay(cm_ho, display_labels=['ice', 'liquid'])\n",
    "\n",
    "fig, [[ax0,ax1],[ax2,ax3]] = plt.subplots(nrows=2, ncols=2)#, sharex=True, sharey=True)\n",
    "\n",
    "cmd.plot(ax=ax0, values_format='0.0f')\n",
    "ax0.set_title('UWILD')\n",
    "cmd_ar.plot(ax=ax1, values_format='0.0f')\n",
    "ax1.set_title('Area Ratio')\n",
    "cmd_ho.plot(ax=ax2, values_format='0.0f')\n",
    "ax2.set_title('Holroyd')\n",
    "ax3.axis('off')\n",
    "fig.tight_layout()\n",
    "\n",
    "fig.savefig('confusion_matrices.png', dpi=600)\n"
   ]
  },
  {
   "cell_type": "code",
   "execution_count": 25,
   "id": "4ac59487-69e6-4ca8-b85a-10f79da34676",
   "metadata": {},
   "outputs": [
    {
     "data": {
      "image/png": "[encoded data removed]",
      "text/plain": [
       "<Figure size 216x252 with 2 Axes>"
      ]
     },
     "metadata": {
      "needs_background": "light"
     },
     "output_type": "display_data"
    }
   ],
   "source": [
    "x = np.arange(1)  # the label locations\n",
    "width = 0.30  # the width of the bars\n",
    "\n",
    "UWILD_ice = f1_score(y_true=all_human_class[~np.isnan(all_human_class)], y_pred=shifted_UW_phase[~np.isnan(all_human_class)], pos_label=0)\n",
    "UWILD_liq = f1_score(y_true=all_human_class[~np.isnan(all_human_class)], y_pred=shifted_UW_phase[~np.isnan(all_human_class)], pos_label=1)\n",
    "EOL_ice = f1_score(y_true=all_human_class[~np.isnan(all_human_class)], y_pred=shifted_AR_phase[~np.isnan(all_human_class)], pos_label=0)\n",
    "EOL_liq = f1_score(y_true=all_human_class[~np.isnan(all_human_class)], y_pred=shifted_AR_phase[~np.isnan(all_human_class)], pos_label=1)\n",
    "UIOOPS_ice = f1_score(y_true=all_human_class[~np.isnan(all_human_class)], y_pred=shifted_Holroyd_phase[~np.isnan(all_human_class)], pos_label=0)\n",
    "UIOOPS_liq = f1_score(y_true=all_human_class[~np.isnan(all_human_class)], y_pred=shifted_Holroyd_phase[~np.isnan(all_human_class)], pos_label=1)\n",
    "\n",
    "fig, axes = plt.subplots(1,2,figsize=(3, 3.5),sharey=True)\n",
    "rects1 = axes[0].bar(x - width, [UWILD_ice], width, label='UWILD',color='g',hatch='//')\n",
    "rects2 = axes[0].bar(x, [UIOOPS_ice], width, label='Holroyd',color='r',hatch='///')\n",
    "rects3 = axes[0].bar(x + width, [EOL_ice], width, label='Area Ratio',color='b')\n",
    "rects4 = axes[1].bar(x - width,[UWILD_liq], width, label='UWILD',color='g',hatch='//')\n",
    "rects5 = axes[1].bar(x,[UIOOPS_liq], width, label='Holroyd',color='r',hatch='///')\n",
    "rects6 = axes[1].bar(x + width, [EOL_liq], width, label='Area Ratio',color='b')\n",
    "\n",
    "# Add some text for labels, title and custom x-axis tick labels, etc.\n",
    "axes[0].set_ylabel('F1 Scores')\n",
    "axes[0].set_xticklabels([])\n",
    "axes[1].set_xticklabels([])\n",
    "# axes[0].set_xlabel([])\n",
    "# axes[1].set_xlabel('manual \\n test set')\n",
    "axes[0].set_title('Ice')\n",
    "axes[1].set_title('Liquid')\n",
    "axes[1].legend(['UWILD','Holroyd','Area Ratio'],fontsize=7.5,\\\n",
    "               loc='upper right',frameon=False)\n",
    "plt.savefig('figure7_testset.png', dpi=600)\n"
   ]
  },
  {
   "cell_type": "code",
   "execution_count": 4,
   "id": "d2c86dbb-5845-40e0-9c4e-f20022677ee9",
   "metadata": {},
   "outputs": [
    {
     "data": {
      "text/plain": [
       "array(['length', 'width', 'area', 'max_top_edge_touching',\n",
       "       'max_bottom_edge_touching', 'touching_edge', 'max_dimension',\n",
       "       'eq_diameter', 'perimeter', 'percent_shadow_area',\n",
       "       'edge_at_max_hole', 'max_hole_diameter', 'fine_detail_ratio',\n",
       "       'area_ratio', 'log10_iat'], dtype='<U24')"
      ]
     },
     "execution_count": 4,
     "metadata": {},
     "output_type": "execute_result"
    }
   ],
   "source": [
    "y_titles = np.array(['log10_iat','area_ratio', 'fine_detail_ratio', 'max_hole_diameter',\n",
    "            'edge_at_max_hole','percent_shadow_area','perimeter','eq_diameter',\n",
    "            'max_dimension','touching_edge','max_bottom_edge_touching',\n",
    "            'max_top_edge_touching','area','width','length'][::-1])\n",
    "y_titles"
   ]
  },
  {
   "cell_type": "code",
   "execution_count": 117,
   "id": "75a5e5e4-b523-4bff-b444-87a3356cc68a",
   "metadata": {},
   "outputs": [
    {
     "data": {
      "text/plain": [
       "0.6308724832214764"
      ]
     },
     "execution_count": 117,
     "metadata": {},
     "output_type": "execute_result"
    }
   ],
   "source": [
    "f1_score(y_true=all_human_class[~np.isnan(all_human_class)], y_pred=shifted_UW_phase[~np.isnan(all_human_class)])"
   ]
  }
 ],
 "metadata": {
  "kernelspec": {
   "display_name": "Python [conda env:classified-cset]",
   "language": "python",
   "name": "conda-env-classified-cset-py"
  },
  "language_info": {
   "codemirror_mode": {
    "name": "ipython",
    "version": 3
   },
   "file_extension": ".py",
   "mimetype": "text/x-python",
   "name": "python",
   "nbconvert_exporter": "python",
   "pygments_lexer": "ipython3",
   "version": "3.7.6"
  }
 },
 "nbformat": 4,
 "nbformat_minor": 5
}

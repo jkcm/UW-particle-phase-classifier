{
 "cells": [
  {
   "cell_type": "code",
   "execution_count": 6,
   "id": "fbe05cac-ea25-443a-a3e2-c09fa5e4f001",
   "metadata": {},
   "outputs": [
    {
     "name": "stdout",
     "output_type": "stream",
     "text": [
      "banana\n"
     ]
    }
   ],
   "source": [
    "import xarray as xr\n",
    "import glob\n",
    "import os\n",
    "import datetime\n",
    "print('banana')"
   ]
  },
  {
   "cell_type": "code",
   "execution_count": 7,
   "id": "2081ca84-34f2-4bb9-8ada-5f872fc13262",
   "metadata": {},
   "outputs": [],
   "source": [
    "files = glob.glob('/home/disk/eos9/jkcm/Data/particle/classified/v1.0/UW_particle_classifications.*.nc')\n",
    "# files = glob.glob('/home/disk/eos9/jkcm/Data/particle/psd/uncompressed/UW_particle_classifications.*.nc')"
   ]
  },
  {
   "cell_type": "code",
   "execution_count": 8,
   "id": "6a65d7f7-dc87-43f9-a02e-76c5ca1ddb5b",
   "metadata": {},
   "outputs": [],
   "source": [
    "def add_units_and_names_to_psd(data):\n",
    "    data['count_dmax_all'].attrs['long_name'] = 'Count by max diameter, all particles'\n",
    "    data['count_dmax_liq_ml'].attrs['long_name'] = 'Count by max diameter, liquid particles, UWILD classification'\n",
    "    data['count_dmax_liq_holroyd'].attrs['long_name'] = 'Count by max diameter, liquid particles, Holroyd classification'\n",
    "    data['count_dmax_liq_ar'].attrs['long_name'] = 'Count by max diameter, liquid particles, Area Ratio classification'\n",
    "    data['count_dmax_ice_ml'].attrs['long_name'] = 'Count by max diameter, ice particles, UWILD classification'\n",
    "    data['count_dmax_ice_holroyd'].attrs['long_name'] = 'Count by max diameter, ice particles, Holroyd classification'\n",
    "    data['count_dmax_ice_ar'].attrs['long_name'] = 'Count by max diameter, ice particles, Area Ratio classification'\n",
    "    data['count_darea_all'].attrs['long_name'] = 'Count by area-equivalent diameter, all particles'\n",
    "    data['count_darea_liq_ml'].attrs['long_name'] = 'Count by area-equivalent diameter, liquid particles, UWILD classification' \n",
    "    data['count_darea_liq_holroyd'].attrs['long_name'] = 'Count by area-equivalent diameter, liquid particles, Holroyd classification'\n",
    "    data['count_darea_liq_ar'].attrs['long_name'] = 'Count by area-equivalent diameter, liquid particles, Area Ratio classification'\n",
    "    data['count_darea_ice_ml'].attrs['long_name'] = 'Count by area-equivalent diameter, ice particles, UWILD classification'\n",
    "    data['count_darea_ice_holroyd'].attrs['long_name'] = 'Count by area-equivalent diameter, ice particles, Holroyd classification'\n",
    "    data['count_darea_ice_ar'].attrs['long_name'] = 'Count by area-equivalent diameter, ice particles, Area Ratio classification' \n",
    "    data['sample_volume'].attrs['long_name'] = 'Sample volume'\n",
    "    data['lwc_ml'].attrs['long_name'] = 'Liquid Water Content, UWILD classification'\n",
    "    data['lwc_holroyd'].attrs['long_name'] = 'Liquid Water Content, Holroyd classification'\n",
    "    data['lwc_ar'].attrs['long_name'] = 'Liquid Water Content, Area Ratio classification'\n",
    "    data['deadtime_flag'].attrs['long_name'] = 'Probe deadtime flag'\n",
    "    data['count_dmax_liq_ml_mean'].attrs['long_name'] = 'Count by max diameter, liquid particles, UWILD classification mean from bootstrapping'\n",
    "    data['count_dmax_ice_ml_mean'].attrs['long_name'] = 'Count by max diameter, ice particles, UWILD classification mean from bootstrapping'\n",
    "    data['count_darea_liq_ml_mean'].attrs['long_name'] = 'Count by area-equivalent diameter, liquid particles, UWILD classification mean from bootstrapping'\n",
    "    data['count_darea_ice_ml_mean'].attrs['long_name'] = 'Count by area-equivalent diameter, ice particles, UWILD classification mean from bootstrapping'\n",
    "    data['count_dmax_liq_ml_median'].attrs['long_name'] = 'Count by max diameter, liquid particles, UWILD classification median from bootstrapping'\n",
    "    data['count_dmax_ice_ml_median'].attrs['long_name'] = 'Count by max diameter, ice particles, UWILD classification median from bootstrapping'\n",
    "    data['count_darea_liq_ml_median'].attrs['long_name'] = 'Count by area-equivalent diameter, liquid particles, UWILD classification median from bootstrapping' \n",
    "    data['count_darea_ice_ml_median'].attrs['long_name'] = 'Count by area-equivalent diameter, ice particles, UWILD classification median from bootstrapping' \n",
    "    data['count_dmax_liq_ml_min'].attrs['long_name'] = 'Count by max diameter, liquid particles, UWILD classification min from bootstrapping'\n",
    "    data['count_dmax_ice_ml_min'].attrs['long_name'] = 'Count by max diameter, ice particles, UWILD classification min from bootstrapping'\n",
    "    data['count_darea_liq_ml_min'].attrs['long_name'] = 'Count by area-equivalent diameter, liquid particles, UWILD classification min from bootstrapping' \n",
    "    data['count_darea_ice_ml_min'].attrs['long_name'] = 'Count by area-equivalent diameter, ice particles, UWILD classification min from bootstrapping' \n",
    "    data['count_dmax_liq_ml_max'].attrs['long_name'] = 'Count by max diameter, liquid particles, UWILD classification max from bootstrapping'\n",
    "    data['count_dmax_ice_ml_max'].attrs['long_name'] = 'Count by max diameter, ice particles, UWILD classification max from bootstrapping'\n",
    "    data['count_darea_liq_ml_max'].attrs['long_name'] = 'Count by area-equivalent diameter, liquid particles, UWILD classification max from bootstrapping' \n",
    "    data['count_darea_ice_ml_max'].attrs['long_name'] = 'Count by area-equivalent diameter, ice particles, UWILD classification max from bootstrapping' \n",
    "    data['count_dmax_liq_ml_stddev'].attrs['long_name'] = 'Count by max diameter, liquid particles, UWILD classification standard deviation from bootstrapping'\n",
    "    data['count_dmax_ice_ml_stddev'].attrs['long_name'] = 'Count by max diameter, ice particles, UWILD classification standard deviation from bootstrapping'\n",
    "    data['count_darea_liq_ml_stddev'].attrs['long_name'] = 'Count by area-equivalent diameter, liquid particles, UWILD classification standard deviation from bootstrapping' \n",
    "    data['count_darea_ice_ml_stddev'].attrs['long_name'] = 'Count by area-equivalent diameter, ice particles, UWILD classification standard deviation from bootstrapping' \n",
    "    data['count_dmax_liq_ml_25pct'].attrs['long_name'] = 'Count by max diameter, liquid particles, UWILD classification 25th percentile from bootstrapping'\n",
    "    data['count_dmax_ice_ml_25pct'].attrs['long_name'] = 'Count by max diameter, ice particles, UWILD classification 25th percentile from bootstrapping'\n",
    "    data['count_darea_liq_ml_25pct'].attrs['long_name'] = 'Count by area-equivalent diameter, liquid particles, UWILD classification 25th percentile from bootstrapping' \n",
    "    data['count_darea_ice_ml_25pct'].attrs['long_name'] = 'Count by area-equivalent diameter, ice particles, UWILD classification 25th percentile from bootstrapping' \n",
    "    data['count_dmax_liq_ml_75pct'].attrs['long_name'] = 'Count by max diameter, liquid particles, UWILD classification 75th percentile from bootstrapping'\n",
    "    data['count_dmax_ice_ml_75pct'].attrs['long_name'] = 'Count by max diameter, ice particles, UWILD classification 75th percentile from bootstrapping'\n",
    "    data['count_darea_liq_ml_75pct'].attrs['long_name'] = 'Count by area-equivalent diameter, liquid particles, UWILD classification 75th percentile from bootstrapping' \n",
    "    data['count_darea_ice_ml_75pct'].attrs['long_name'] = 'Count by area-equivalent diameter, ice particles, UWILD classification 75th percentile from bootstrapping' \n",
    "    data['lwc_ml_mean'].attrs['long_name'] = 'Liquid Water Content, UWILD classification mean from bootstrapping'\n",
    "    data['lwc_ml_median'].attrs['long_name'] = 'Liquid Water Content, UWILD classification median from bootstrapping'\n",
    "    data['lwc_ml_min'].attrs['long_name'] = 'Liquid Water Content, UWILD classification min from bootstrapping'\n",
    "    data['lwc_ml_max'].attrs['long_name'] = 'Liquid Water Content, UWILD classification max from bootstrapping'\n",
    "    data['lwc_ml_stddev'].attrs['long_name'] = 'Liquid Water Content, UWILD classification standard deviation from bootstrapping'\n",
    "    data['lwc_ml_25pct'].attrs['long_name'] = 'Liquid Water Content, UWILD classification 25th percentile from bootstrapping'\n",
    "    data['lwc_ml_75pct'].attrs['long_name'] = 'Liquid Water Content, UWILD classification 75th percentile from bootstrapping'\n",
    "\n",
    "    data['particle_counts'].attrs['long_name'] = 'number of classified particles per timestep'\n",
    "    data['phase_flip_counts'].attrs['long_name'] = 'probabilistic estimate of number of flips from ice to liquid or liquid to ice of adjacent particles'\n",
    "    data['all_particle_counts'].attrs['long_name'] = 'number of classified+unclassified particles per timestep'\n",
    "\n",
    "\n",
    "    for k,v in data.data_vars.items():\n",
    "        if 'count' in k:\n",
    "            v.attrs['units'] = 'count'\n",
    "    for k,v in data.data_vars.items():\n",
    "        if 'lwc_' in k:\n",
    "            v.attrs['units'] = 'g m**-3'\n",
    "\n",
    "    data['deadtime_flag'].attrs['flag_values'] = [0, 1]\n",
    "    data['deadtime_flag'].attrs['flag_meanings'] = ['probe_deadtime_less_than_80_percent', 'probe_deadtime_greater_than_80_percent']\n",
    "\n",
    "    return data\n",
    "\n"
   ]
  },
  {
   "cell_type": "code",
   "execution_count": 14,
   "id": "e7634207-61f6-4ce2-9f77-ec9c8235b44d",
   "metadata": {},
   "outputs": [
    {
     "name": "stdout",
     "output_type": "stream",
     "text": [
      "UW_particle_classifications.rf01.nc\n",
      "UW_particle_classifications.rf02.nc\n",
      "UW_particle_classifications.rf03.nc\n",
      "UW_particle_classifications.rf04.nc\n",
      "UW_particle_classifications.rf05.nc\n",
      "UW_particle_classifications.rf06.nc\n",
      "UW_particle_classifications.rf07.nc\n",
      "UW_particle_classifications.rf08.nc\n",
      "UW_particle_classifications.rf09.nc\n",
      "UW_particle_classifications.rf10.nc\n",
      "UW_particle_classifications.rf11.nc\n",
      "UW_particle_classifications.rf12.nc\n",
      "UW_particle_classifications.rf13.nc\n",
      "UW_particle_classifications.rf14.nc\n",
      "UW_particle_classifications.rf15.nc\n"
     ]
    }
   ],
   "source": [
    "for f in files:\n",
    "    print(os.path.basename(f))\n",
    "    data = xr.open_dataset(f)\n",
    "    data.UW_flag.attrs['Description'] = data.UW_flag.attrs['Description'].replace('size is above 25 pixels', \n",
    "                                          'size is below 25 pixels')\n",
    "#     data = add_units_and_names_to_psd(data)\n",
    "#     data.attrs['version'] = '1.0'\n",
    "#     data.attrs['Contact'] = \"Johannes Mohrmann (jkcm@uw.edu)\" \n",
    "#     data.attrs['Institution'] = \"University of Washington, Dept. of Atmospheric Sciences\" \n",
    "#     data.attrs['Creation Time'] = str(datetime.datetime.utcnow())\n",
    "#     data.attrs['Project'] = \"UW random forest particle phase identification, 1 Hz particle size distributions\"\n",
    "#     data.attrs['Website'] = \"https://github.com/jkcm/UW-particle-phase-classifier\"\n",
    "#     data.attrs['References'] = \"Random forest relies on output from the UIOPS 2DS processing suite, DOI:10.5281/zenodo.3667054\"\n",
    "#     data.attrs['authors'] = \"Rachel Atlas, Joe Finlon, Ian Hsiao, Jeremy Lu, Johannes Mohrmann\"\n",
    "    data.to_netcdf(os.path.join(os.path.dirname(f), 'new', os.path.basename(f)))"
   ]
  },
  {
   "cell_type": "code",
   "execution_count": 10,
   "id": "4f28d75e-587c-444d-b335-2605a2a0bc59",
   "metadata": {},
   "outputs": [],
   "source": [
    "data.UW_flag.attrs['Description'] = data.UW_flag.attrs['Description'].replace('size is above 25 pixels', \n",
    "                                          'size is below 25 pixels')"
   ]
  },
  {
   "cell_type": "code",
   "execution_count": 11,
   "id": "8ee2f028-b1e4-4c0a-9603-6e50752fa7fb",
   "metadata": {},
   "outputs": [
    {
     "data": {
      "text/plain": [
       "'UW data quality flag: 0 is good values, 0th bit is interarrival time=negative, 1st bit is area ratio index< 0.2, 2nd bit is image center not in particle, 3rd bit is UIOPS auto_reject index is not in (48, 72, 104), 4th bit is size is below 25 pixels, 5th bit is NaN in input data, 6th bit is negative fine detail ratios'"
      ]
     },
     "execution_count": 11,
     "metadata": {},
     "output_type": "execute_result"
    }
   ],
   "source": [
    "data.UW_flag.attrs['Description']"
   ]
  },
  {
   "cell_type": "code",
   "execution_count": 62,
   "id": "dc40d54f-dcdb-4935-919b-078a9b300a51",
   "metadata": {},
   "outputs": [],
   "source": [
    "# for f in files:\n",
    "#     print(os.path.basename(f))\n",
    "#     data = xr.open_dataset(f)\n",
    "#     data = add_units_and_names_to_psd(data)\n",
    "#     data.attrs['version'] = '1.0'\n",
    "#     data.attrs['Contact'] = \"Johannes Mohrmann (jkcm@uw.edu)\" \n",
    "#     data.attrs['Institution'] = \"University of Washington, Dept. of Atmospheric Sciences\" \n",
    "#     data.attrs['Creation Time'] = str(datetime.datetime.utcnow())\n",
    "#     data.attrs['Project'] = \"UW random forest particle phase identification, 1 Hz particle size distributions\"\n",
    "#     data.attrs['Website'] = \"https://github.com/jkcm/UW-particle-phase-classifier\"\n",
    "#     data.attrs['References'] = \"Random forest relies on output from the UIOPS 2DS processing suite, DOI:10.5281/zenodo.3667054\"\n",
    "#     data.attrs['authors'] = \"Rachel Atlas, Joe Finlon, Ian Hsiao, Jeremy Lu, Johannes Mohrmann\"\n",
    "#     data.to_netcdf(os.path.join(os.path.dirname(f), 'v1.0', ''.join(os.path.basename(f).split('_psd'))))"
   ]
  },
  {
   "cell_type": "code",
   "execution_count": null,
   "id": "ded135ed-60b8-4e66-892a-cc804e973aaa",
   "metadata": {},
   "outputs": [],
   "source": []
  }
 ],
 "metadata": {
  "kernelspec": {
   "display_name": "Python [conda env:classified-cset]",
   "language": "python",
   "name": "conda-env-classified-cset-py"
  },
  "language_info": {
   "codemirror_mode": {
    "name": "ipython",
    "version": 3
   },
   "file_extension": ".py",
   "mimetype": "text/x-python",
   "name": "python",
   "nbconvert_exporter": "python",
   "pygments_lexer": "ipython3",
   "version": "3.7.6"
  }
 },
 "nbformat": 4,
 "nbformat_minor": 5
}
